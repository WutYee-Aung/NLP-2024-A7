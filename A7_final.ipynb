{
 "cells": [
  {
   "attachments": {},
   "cell_type": "markdown",
   "metadata": {},
   "source": [
    "# Natural Language Processing\n",
    "\n",
    "# Retrieval-Augmented generation (RAG)\n",
    "\n",
    "RAG is a technique for augmenting LLM knowledge with additional, often private or real-time, data.\n",
    "\n",
    "LLMs can reason about wide-ranging topics, but their knowledge is limited to the public data up to a specific point in time that they were trained on. If you want to build AI applications that can reason about private data or data introduced after a model’s cutoff date, you need to augment the knowledge of the model with the specific information it needs.\n",
    "\n",
    "<img src=\"../figures/RAG-process.png\" >\n",
    "\n",
    "Introducing `ChakyBot`, an innovative chatbot designed to assist Chaky (the instructor) and TA (Gun) in explaining the lesson of the NLP course to students. Leveraging LangChain technology, ChakyBot excels in retrieving information from documents, ensuring a seamless and efficient learning experience for students engaging with the NLP curriculum.\n",
    "\n",
    "1. Prompt\n",
    "2. Retrieval\n",
    "3. Memory\n",
    "4. Chain"
   ]
  },
  {
   "cell_type": "code",
   "execution_count": 1,
   "metadata": {},
   "outputs": [],
   "source": [
    "# #langchain library\n",
    "# !pip install langchain==0.0.350\n",
    "# #LLM\n",
    "# !pip install accelerate==0.25.0\n",
    "# !pip install transformers==4.36.2\n",
    "# !pip install bitsandbytes==0.41.2\n",
    "# #Text Embedding\n",
    "# !pip install sentence-transformers==2.2.2\n",
    "# !pip install InstructorEmbedding==1.0.1\n",
    "# #vectorstore\n",
    "# !pip install pymupdf==1.23.8\n",
    "# !pip install faiss-gpu==1.7.2\n",
    "# !pip install faiss-cpu==1.7.4"
   ]
  },
  {
   "cell_type": "code",
   "execution_count": 1,
   "metadata": {},
   "outputs": [
    {
     "data": {
      "text/plain": [
       "device(type='cpu')"
      ]
     },
     "execution_count": 1,
     "metadata": {},
     "output_type": "execute_result"
    }
   ],
   "source": [
    "import os\n",
    "import torch\n",
    "# Set GPU device\n",
    "# os.environ[\"CUDA_VISIBLE_DEVICES\"] = \"1\"\n",
    "\n",
    "# os.environ['http_proxy']  = 'http://192.41.170.23:3128'\n",
    "# os.environ['https_proxy'] = 'http://192.41.170.23:3128'\n",
    "\n",
    "device = torch.device('cuda' if torch.cuda.is_available() else 'cpu')\n",
    "device"
   ]
  },
  {
   "attachments": {},
   "cell_type": "markdown",
   "metadata": {},
   "source": [
    "## 1. Prompt\n",
    "\n",
    "A set of instructions or input provided by a user to guide the model's response, helping it understand the context and generate relevant and coherent language-based output, such as answering questions, completing sentences, or engaging in a conversation."
   ]
  },
  {
   "cell_type": "code",
   "execution_count": 2,
   "metadata": {},
   "outputs": [
    {
     "data": {
      "text/plain": [
       "PromptTemplate(input_variables=['context', 'question'], template=\"I'm your friendly NLP chatbot named ChakyBot, here to assist Chaky and Gun with any questions they have about Natural Language Processing (NLP). \\n    If you're curious about how probability works in the context of NLP, feel free to ask any questions you may have. \\n    Whether it's about probabilistic models, language models, or any other related topic, \\n    I'm here to help break down complex concepts into easy-to-understand explanations.\\n    Just let me know what you're wondering about, and I'll do my best to guide you through it!\\n    {context}\\n    Question: {question}\\n    Answer:\")"
      ]
     },
     "execution_count": 2,
     "metadata": {},
     "output_type": "execute_result"
    }
   ],
   "source": [
    "from langchain import PromptTemplate\n",
    "\n",
    "prompt_template = \"\"\"\n",
    "    I'm your friendly NLP chatbot named ChakyBot, here to assist Chaky and Gun with any questions they have about Natural Language Processing (NLP). \n",
    "    If you're curious about how probability works in the context of NLP, feel free to ask any questions you may have. \n",
    "    Whether it's about probabilistic models, language models, or any other related topic, \n",
    "    I'm here to help break down complex concepts into easy-to-understand explanations.\n",
    "    Just let me know what you're wondering about, and I'll do my best to guide you through it!\n",
    "    {context}\n",
    "    Question: {question}\n",
    "    Answer:\n",
    "    \"\"\".strip()\n",
    "\n",
    "PROMPT = PromptTemplate.from_template(\n",
    "    template = prompt_template\n",
    ")\n",
    "\n",
    "PROMPT\n",
    "#using str.format \n",
    "#The placeholder is defined using curly brackets: {} {}"
   ]
  },
  {
   "cell_type": "code",
   "execution_count": 3,
   "metadata": {},
   "outputs": [
    {
     "data": {
      "text/plain": [
       "\"I'm your friendly NLP chatbot named ChakyBot, here to assist Chaky and Gun with any questions they have about Natural Language Processing (NLP). \\n    If you're curious about how probability works in the context of NLP, feel free to ask any questions you may have. \\n    Whether it's about probabilistic models, language models, or any other related topic, \\n    I'm here to help break down complex concepts into easy-to-understand explanations.\\n    Just let me know what you're wondering about, and I'll do my best to guide you through it!\\n    Machine learning (ML) is a field of study in artificial intelligence concerned with the development and study of statistical algorithms that can effectively generalize and thus perform tasks without explicit instructions.\\n    Question: What is Machine Learning\\n    Answer:\""
      ]
     },
     "execution_count": 3,
     "metadata": {},
     "output_type": "execute_result"
    }
   ],
   "source": [
    "PROMPT.format(\n",
    "    context = \"Machine learning (ML) is a field of study in artificial intelligence concerned with the development and study of statistical algorithms that can effectively generalize and thus perform tasks without explicit instructions.\",\n",
    "    question = \"What is Machine Learning\"\n",
    ")"
   ]
  },
  {
   "attachments": {},
   "cell_type": "markdown",
   "metadata": {},
   "source": [
    "Note : [How to improve prompting (Zero-shot, Few-shot, Chain-of-Thought, etc.](https://github.com/chaklam-silpasuwanchai/Natural-Language-Processing/blob/main/Code/05%20-%20RAG/advance/cot-tot-prompting.ipynb)"
   ]
  },
  {
   "attachments": {},
   "cell_type": "markdown",
   "metadata": {},
   "source": [
    "## 2. Retrieval\n",
    "\n",
    "1. `Document loaders` : Load documents from many different sources (HTML, PDF, code). \n",
    "2. `Document transformers` : One of the essential steps in document retrieval is breaking down a large document into smaller, relevant chunks to enhance the retrieval process.\n",
    "3. `Text embedding models` : Embeddings capture the semantic meaning of the text, allowing you to quickly and efficiently find other pieces of text that are similar.\n",
    "4. `Vector stores`: there has emerged a need for databases to support efficient storage and searching of these embeddings.\n",
    "5. `Retrievers` : Once the data is in the database, you still need to retrieve it."
   ]
  },
  {
   "attachments": {},
   "cell_type": "markdown",
   "metadata": {},
   "source": [
    "### 2.1 Document Loaders \n",
    "Use document loaders to load data from a source as Document's. A Document is a piece of text and associated metadata. For example, there are document loaders for loading a simple .txt file, for loading the text contents of any web page, or even for loading a transcript of a YouTube video.\n",
    "\n",
    "[PDF Loader](https://python.langchain.com/docs/modules/data_connection/document_loaders/pdf)\n",
    "\n",
    "[Download Document](https://web.stanford.edu/~jurafsky/slp3/)"
   ]
  },
  {
   "cell_type": "code",
   "execution_count": 9,
   "metadata": {},
   "outputs": [],
   "source": [
    "from langchain.document_loaders import PyMuPDFLoader, PyPDFLoader\n",
    "\n",
    "# nlp_docs = '../docs/pdf/SpeechandLanguageProcessing_3rd_07jan2023.pdf'\n",
    "\n",
    "# loader = PyMuPDFLoader(nlp_docs)\n",
    "# documents = loader.load()\n",
    "\n",
    "folder_path = './docs/ait_pdf/'\n",
    "pdf_list = []\n",
    "for filename in os.listdir(folder_path):\n",
    "    if filename.endswith('.pdf'):\n",
    "        pdf_list.append(folder_path + filename)\n",
    "\n",
    "documents = []\n",
    "pdf_loaders = [PyPDFLoader(pdf) for pdf in pdf_list]\n",
    "for loader in pdf_loaders:\n",
    "    documents.extend(loader.load())"
   ]
  },
  {
   "cell_type": "code",
   "execution_count": 13,
   "metadata": {},
   "outputs": [],
   "source": [
    "documents"
   ]
  },
  {
   "cell_type": "code",
   "execution_count": 11,
   "metadata": {},
   "outputs": [
    {
     "data": {
      "text/plain": [
       "636"
      ]
     },
     "execution_count": 11,
     "metadata": {},
     "output_type": "execute_result"
    }
   ],
   "source": [
    "len(documents)"
   ]
  },
  {
   "cell_type": "code",
   "execution_count": 12,
   "metadata": {},
   "outputs": [
    {
     "data": {
      "text/plain": [
       "Document(page_content='Summary of Contents\\nI\\nFundamental Algorithms for NLP\\n1\\n1\\nIntroduction. . . . . . . . . . . . . . . . . . . . . . . . . . . . . . . . . . . . . . . . . . . . . . . . . . .\\n3\\n2\\nRegular Expressions, Text Normalization, Edit Distance. . . . . . . . .\\n4\\n3\\nN-gram Language Models . . . . . . . . . . . . . . . . . . . . . . . . . . . . . . . . . . . . .\\n31\\n4\\nNaive Bayes, Text Classiﬁcation, and Sentiment . . . . . . . . . . . . . . . . . 58\\n5\\nLogistic Regression . . . . . . . . . . . . . . . . . . . . . . . . . . . . . . . . . . . . . . . . . . . . 79\\n6\\nVector Semantics and Embeddings . . . . . . . . . . . . . . . . . . . . . . . . . . . . . 103\\n7\\nNeural Networks and Neural Language Models . . . . . . . . . . . . . . . . . 134\\n8\\nSequence Labeling for Parts of Speech and Named Entities . . . . . . 160\\n9\\nRNNs and LSTMs . . . . . . . . . . . . . . . . . . . . . . . . . . . . . . . . . . . . . . . . . . . . . 185\\n10 Transformers and Pretrained Language Models. . . . . . . . . . . . . . . . . 211\\n11 Fine-Tuning and Masked Language Models. . . . . . . . . . . . . . . . . . . . . 228\\n12 Prompting, In-Context Learning, and Instruct Tuning. . . . . . . . . . . 244\\nII\\nNLP Applications\\n245\\n13 Machine Translation. . . . . . . . . . . . . . . . . . . . . . . . . . . . . . . . . . . . . . . . . . . 247\\n14 Question Answering and Information Retrieval . . . . . . . . . . . . . . . . . 269\\n15 Chatbots & Dialogue Systems . . . . . . . . . . . . . . . . . . . . . . . . . . . . . . . . . . 296\\n16 Automatic Speech Recognition and Text-to-Speech . . . . . . . . . . . . . . 329\\nIII\\nAnnotating Linguistic Structure\\n355\\n17 Context-Free Grammars and Constituency Parsing . . . . . . . . . . . . . 357\\n18 Dependency Parsing . . . . . . . . . . . . . . . . . . . . . . . . . . . . . . . . . . . . . . . . . . . 381\\n19 Logical Representations of Sentence Meaning. . . . . . . . . . . . . . . . . . . 405\\n20 Computational Semantics and Semantic Parsing . . . . . . . . . . . . . . . . 428\\n21 Relation and Event Extraction . . . . . . . . . . . . . . . . . . . . . . . . . . . . . . . . . 429\\n22 Time and Temporal Reasoning . . . . . . . . . . . . . . . . . . . . . . . . . . . . . . . . . 446\\n23 Word Senses and WordNet. . . . . . . . . . . . . . . . . . . . . . . . . . . . . . . . . . . . . 457\\n24 Semantic Role Labeling. . . . . . . . . . . . . . . . . . . . . . . . . . . . . . . . . . . . . . . . 476\\n25 Lexicons for Sentiment, Affect, and Connotation . . . . . . . . . . . . . . . . 496\\n26 Coreference Resolution . . . . . . . . . . . . . . . . . . . . . . . . . . . . . . . . . . . . . . . . 516\\n27 Discourse Coherence. . . . . . . . . . . . . . . . . . . . . . . . . . . . . . . . . . . . . . . . . . .543\\n28 Phonetics. . . . . . . . . . . . . . . . . . . . . . . . . . . . . . . . . . . . . . . . . . . . . . . . . . . . . .565\\nBibliography. . . . . . . . . . . . . . . . . . . . . . . . . . . . . . . . . . . . . . . . . . . . . . . . . . . . . . 587\\nSubject Index . . . . . . . . . . . . . . . . . . . . . . . . . . . . . . . . . . . . . . . . . . . . . . . . . . . . . 621\\n2\\n', metadata={'source': '../docs/pdf/SpeechandLanguageProcessing_3rd_07jan2023.pdf', 'file_path': '../docs/pdf/SpeechandLanguageProcessing_3rd_07jan2023.pdf', 'page': 1, 'total_pages': 636, 'format': 'PDF 1.5', 'title': '', 'author': '', 'subject': '', 'keywords': '', 'creator': 'LaTeX with hyperref', 'producer': 'pdfTeX-1.40.21', 'creationDate': \"D:20230107092057-08'00'\", 'modDate': \"D:20230107092057-08'00'\", 'trapped': ''})"
      ]
     },
     "execution_count": 12,
     "metadata": {},
     "output_type": "execute_result"
    }
   ],
   "source": [
    "documents[1]"
   ]
  },
  {
   "attachments": {},
   "cell_type": "markdown",
   "metadata": {},
   "source": [
    "### 2.2 Document Transformers\n",
    "\n",
    "This text splitter is the recommended one for generic text. It is parameterized by a list of characters. It tries to split on them in order until the chunks are small enough"
   ]
  },
  {
   "cell_type": "code",
   "execution_count": 15,
   "metadata": {},
   "outputs": [],
   "source": [
    "from langchain.text_splitter import RecursiveCharacterTextSplitter\n",
    "\n",
    "text_splitter = RecursiveCharacterTextSplitter(\n",
    "    chunk_size = 700,\n",
    "    chunk_overlap = 100\n",
    ")\n",
    "\n",
    "doc = text_splitter.split_documents(documents)"
   ]
  },
  {
   "cell_type": "code",
   "execution_count": 16,
   "metadata": {},
   "outputs": [
    {
     "data": {
      "text/plain": [
       "Document(page_content='Summary of Contents\\nI\\nFundamental Algorithms for NLP\\n1\\n1\\nIntroduction. . . . . . . . . . . . . . . . . . . . . . . . . . . . . . . . . . . . . . . . . . . . . . . . . . .\\n3\\n2\\nRegular Expressions, Text Normalization, Edit Distance. . . . . . . . .\\n4\\n3\\nN-gram Language Models . . . . . . . . . . . . . . . . . . . . . . . . . . . . . . . . . . . . .\\n31\\n4\\nNaive Bayes, Text Classiﬁcation, and Sentiment . . . . . . . . . . . . . . . . . 58\\n5\\nLogistic Regression . . . . . . . . . . . . . . . . . . . . . . . . . . . . . . . . . . . . . . . . . . . . 79\\n6\\nVector Semantics and Embeddings . . . . . . . . . . . . . . . . . . . . . . . . . . . . . 103\\n7', metadata={'source': '../docs/pdf/SpeechandLanguageProcessing_3rd_07jan2023.pdf', 'file_path': '../docs/pdf/SpeechandLanguageProcessing_3rd_07jan2023.pdf', 'page': 1, 'total_pages': 636, 'format': 'PDF 1.5', 'title': '', 'author': '', 'subject': '', 'keywords': '', 'creator': 'LaTeX with hyperref', 'producer': 'pdfTeX-1.40.21', 'creationDate': \"D:20230107092057-08'00'\", 'modDate': \"D:20230107092057-08'00'\", 'trapped': ''})"
      ]
     },
     "execution_count": 16,
     "metadata": {},
     "output_type": "execute_result"
    }
   ],
   "source": [
    "doc[1]"
   ]
  },
  {
   "cell_type": "code",
   "execution_count": 17,
   "metadata": {},
   "outputs": [
    {
     "data": {
      "text/plain": [
       "3421"
      ]
     },
     "execution_count": 17,
     "metadata": {},
     "output_type": "execute_result"
    }
   ],
   "source": [
    "len(doc)"
   ]
  },
  {
   "attachments": {},
   "cell_type": "markdown",
   "metadata": {},
   "source": [
    "### 2.3 Text Embedding Models\n",
    "Embeddings create a vector representation of a piece of text. This is useful because it means we can think about text in the vector space, and do things like semantic search where we look for pieces of text that are most similar in the vector space.\n",
    "\n",
    "*Note* Instructor Model : [Huggingface](gingface.co/hkunlp/instructor-base) | [Paper](https://arxiv.org/abs/2212.09741)"
   ]
  },
  {
   "cell_type": "code",
   "execution_count": 5,
   "metadata": {},
   "outputs": [
    {
     "name": "stderr",
     "output_type": "stream",
     "text": [
      "C:\\Users\\putoo\\AppData\\Local\\Packages\\PythonSoftwareFoundation.Python.3.11_qbz5n2kfra8p0\\LocalCache\\local-packages\\Python311\\site-packages\\InstructorEmbedding\\instructor.py:7: TqdmWarning: IProgress not found. Please update jupyter and ipywidgets. See https://ipywidgets.readthedocs.io/en/stable/user_install.html\n",
      "  from tqdm.autonotebook import trange\n"
     ]
    },
    {
     "name": "stdout",
     "output_type": "stream",
     "text": [
      "load INSTRUCTOR_Transformer\n",
      "max_seq_length  512\n"
     ]
    }
   ],
   "source": [
    "import torch\n",
    "from langchain.embeddings import HuggingFaceInstructEmbeddings\n",
    "\n",
    "model_name = 'hkunlp/instructor-base'\n",
    "\n",
    "embedding_model = HuggingFaceInstructEmbeddings(\n",
    "    model_name = model_name,\n",
    "    model_kwargs = {\"device\" : device}\n",
    ")"
   ]
  },
  {
   "attachments": {},
   "cell_type": "markdown",
   "metadata": {},
   "source": [
    "### 2.4 Vector Stores\n",
    "\n",
    "One of the most common ways to store and search over unstructured data is to embed it and store the resulting embedding vectors, and then at query time to embed the unstructured query and retrieve the embedding vectors that are 'most similar' to the embedded query. A vector store takes care of storing embedded data and performing vector search for you."
   ]
  },
  {
   "cell_type": "code",
   "execution_count": 22,
   "metadata": {},
   "outputs": [],
   "source": [
    "#locate vectorstore\n",
    "vector_path = '../A7/vector-store'\n",
    "if not os.path.exists(vector_path):\n",
    "    os.makedirs(vector_path)\n",
    "    print('create path done')"
   ]
  },
  {
   "cell_type": "code",
   "execution_count": 23,
   "metadata": {},
   "outputs": [],
   "source": [
    "#save vector locally\n",
    "from langchain.vectorstores import FAISS\n",
    "\n",
    "vectordb = FAISS.from_documents(\n",
    "    documents = doc,\n",
    "    embedding = embedding_model\n",
    ")\n",
    "\n",
    "db_file_name = 'nlp_stanford'\n",
    "\n",
    "vectordb.save_local(\n",
    "    folder_path = os.path.join(vector_path, db_file_name),\n",
    "    index_name = 'nlp' #default index\n",
    ")"
   ]
  },
  {
   "attachments": {},
   "cell_type": "markdown",
   "metadata": {},
   "source": [
    "### 2.5 retrievers\n",
    "A retriever is an interface that returns documents given an unstructured query. It is more general than a vector store. A retriever does not need to be able to store documents, only to return (or retrieve) them. Vector stores can be used as the backbone of a retriever, but there are other types of retrievers as well."
   ]
  },
  {
   "cell_type": "code",
   "execution_count": 6,
   "metadata": {},
   "outputs": [],
   "source": [
    "#calling vector from local\n",
    "vector_path = '../A7/vector-store'\n",
    "db_file_name = 'nlp_stanford'\n",
    "\n",
    "from langchain.vectorstores import FAISS\n",
    "\n",
    "vectordb = FAISS.load_local(\n",
    "    folder_path = os.path.join(vector_path, db_file_name),\n",
    "    embeddings = embedding_model,\n",
    "    index_name = 'nlp' #default index\n",
    ")   "
   ]
  },
  {
   "cell_type": "code",
   "execution_count": 7,
   "metadata": {},
   "outputs": [],
   "source": [
    "#ready to use\n",
    "retriever = vectordb.as_retriever()"
   ]
  },
  {
   "cell_type": "code",
   "execution_count": 8,
   "metadata": {},
   "outputs": [
    {
     "data": {
      "text/plain": [
       "[Document(page_content='68\\nAIT ANNUAL REPORT 2011\\nThe Asian Institute of Technology (AIT) has pro-\\nvided graduate level education as per the devel-\\nopment needs of countries in the Asian region for \\nmore than 50 years. Today, with the emergence \\nof some economies in Asia and the creation of in-\\nstitutions possessing strong research infrastruc-\\nture, AIT intends to create a niche for itself by \\nbuilding rapidly on its existing strengths. \\nThe research strategy developed in 2011 was the \\nfirst of its kind in the history of AIT and has been \\ndeveloped with this in mind. During the year, \\nAIT Research Strategy 2012-2016 was created \\nwith the understanding that research in today’s', metadata={'source': '../A7/docs/ait_pdf/AIT.AnnualReport.2011.pdf', 'file_path': '../A7/docs/ait_pdf/AIT.AnnualReport.2011.pdf', 'page': 69, 'total_pages': 152, 'format': 'PDF 1.6', 'title': '', 'author': '', 'subject': '', 'keywords': '', 'creator': 'Adobe InDesign CS5.5 (7.5)', 'producer': 'Adobe PDF Library 9.9', 'creationDate': \"D:20130102113910+07'00'\", 'modDate': \"D:20130102135539+07'00'\", 'trapped': ''}),\n",
       " Document(page_content='About AIT\\nFounded in 1959, the Asian Institute \\nof Technology (AIT) is an international \\nEnglish-speaking postgraduate insti-\\ntution, which focuses on engineering \\nand technology, environment, and \\nmanagement studies. AIT’s rigorous \\nacademic, research, and experiential \\noutreach programs prepare grad-\\nuates for professional success and \\nleadership roles in Asia and beyond, \\nwhile promoting technological change \\nand sustainable development in the \\nAsia-Pacific region. \\nLocated in both the heart of down-\\ntown Bangkok (for evening/weekend \\nclasses) and at the lush green cam-\\npus just north of the city (for daytime \\nclasses), AIT operates as a multicultur-\\nal community where a cosmopolitan', metadata={'source': '../A7/docs/ait_pdf/SOM_Brochure_2021__single.pdf', 'file_path': '../A7/docs/ait_pdf/SOM_Brochure_2021__single.pdf', 'page': 3, 'total_pages': 42, 'format': 'PDF 1.3', 'title': 'SOM_Brochure_2021_Draft_23.indd', 'author': '', 'subject': '', 'keywords': '', 'creator': 'Adobe InDesign CC 2017 (Macintosh)', 'producer': 'Adobe PDF Library 15.0', 'creationDate': \"D:20210811132002+07'00'\", 'modDate': \"D:20210811132120+07'00'\", 'trapped': ''}),\n",
       " Document(page_content='7\\nAIT ANNUAL REPORT 2011\\nAIT Overview\\nHOME \\nto renowned experts, in-\\nternational centers, and \\ninternational academic programs, the Asian \\nInstitute of Technology (AIT) situated north \\nof Bangkok, Thailand, is one of the leading \\nhigher educational and research institutions \\nin Asia.\\nFounded in 1959, AIT fosters a complete \\nmulticultural learning experience in English. \\nMore than a university, AIT is a unique inter-\\nnational organization of higher learning that \\nis regionally focused, global in outlook and \\ncosmopolitan in character.\\nIt carries out its mission … “to develop highly \\nqualified and committed professionals who \\nplay a leading role in the region’s sustain-', metadata={'source': '../A7/docs/ait_pdf/AIT.AnnualReport.2011.pdf', 'file_path': '../A7/docs/ait_pdf/AIT.AnnualReport.2011.pdf', 'page': 8, 'total_pages': 152, 'format': 'PDF 1.6', 'title': '', 'author': '', 'subject': '', 'keywords': '', 'creator': 'Adobe InDesign CS5.5 (7.5)', 'producer': 'Adobe PDF Library 9.9', 'creationDate': \"D:20130102113910+07'00'\", 'modDate': \"D:20130102135539+07'00'\", 'trapped': ''}),\n",
       " Document(page_content='3 \\n4. AIT is a member of the Climate Technology \\nCentre and Network (CTCN) consortium, the \\noperational arm of the UNFCCC Technology \\nMechanism, hosted and led by the UN Environment \\nProgram and the UN Industrial Development \\nOrganization. AIT provides technology solutions, \\ncapacity building, and advice on policy, legal, and \\nregulatory frameworks tailored to the needs of \\nNepal, Bhutan, and Timor-Leste. AIT continues to \\nprovide expert technical assistance to technological \\nand developmental intervention   for countries in \\nthe region and beyond as part of this global project. \\n5. Along with DHI (Singapore) and ERN International \\n(Mexico), AIT helped create the first comprehensive', metadata={'source': '../A7/docs/ait_pdf/Annual-Research-Report-2018.pdf', 'file_path': '../A7/docs/ait_pdf/Annual-Research-Report-2018.pdf', 'page': 4, 'total_pages': 137, 'format': 'PDF 1.5', 'title': 'Annual Report on Research 2018', 'author': 'User', 'subject': '', 'keywords': '', 'creator': 'Microsoft® Word 2016', 'producer': 'Microsoft® Word 2016', 'creationDate': \"D:20200515150229+07'00'\", 'modDate': \"D:20200515150229+07'00'\", 'trapped': ''})]"
      ]
     },
     "execution_count": 8,
     "metadata": {},
     "output_type": "execute_result"
    }
   ],
   "source": [
    "# retriever.get_relevant_documents(\"What is Dependency Parsing\")\n",
    "\n",
    "retriever.get_relevant_documents(\"What is AIT\")"
   ]
  },
  {
   "cell_type": "code",
   "execution_count": 9,
   "metadata": {},
   "outputs": [
    {
     "data": {
      "text/plain": [
       "[Document(page_content='Factsheet \\nSTUDENT \\nEXCHANGE \\nP R O G R A M M E \\nSports & Fitness Centre \\nHealth Care \\nBank \\nPost Ofﬁce \\nComputing Facilities \\nOther Facilities \\nStudent Associations \\nExchange services', metadata={'source': '../A7/docs/ait_pdf/IIMA-Factsheet-2024-25.pdf', 'file_path': '../A7/docs/ait_pdf/IIMA-Factsheet-2024-25.pdf', 'page': 3, 'total_pages': 4, 'format': 'PDF 1.7', 'title': 'Untitled-1.cdr', 'author': 'Designer IIMA', 'subject': '', 'keywords': '', 'creator': 'CorelDRAW 2021', 'producer': 'Corel PDF Engine Version 23.5.0.506', 'creationDate': \"D:20240118172918+05'30'\", 'modDate': \"D:20240118172918+05'30'\", 'trapped': ''}),\n",
       " Document(page_content='EXCHANGE \\nPROGRAMS\\nFull-time (22 months) Master’s degree \\nstudents have the opportunity to take \\npart in an exchange or with one of over \\n50 of our partner universities around the \\nworld. The aim of the exchange programs \\nis to immerse students in another culture \\nfor one or two semesters, and to expose \\nthem to different learning approaches. \\nStudents can earn full credit for their \\nsemester(s) abroad. A few of our notable \\npartners include:', metadata={'source': '../A7/docs/ait_pdf/SOM_Brochure_2021__single.pdf', 'file_path': '../A7/docs/ait_pdf/SOM_Brochure_2021__single.pdf', 'page': 26, 'total_pages': 42, 'format': 'PDF 1.3', 'title': 'SOM_Brochure_2021_Draft_23.indd', 'author': '', 'subject': '', 'keywords': '', 'creator': 'Adobe InDesign CC 2017 (Macintosh)', 'producer': 'Adobe PDF Library 15.0', 'creationDate': \"D:20210811132002+07'00'\", 'modDate': \"D:20210811132120+07'00'\", 'trapped': ''}),\n",
       " Document(page_content='O P P O R T U N I T I E S\\nStudent Exchange Program\\nStudent Exchange Program offers an \\nopportunity for AIT students to learn inside \\nand outside classrooms in a partnering  \\nworld-class university. Students in this program \\nwill cultivate academic knowledge, transversal \\nskills, and  intercultural communication, and will \\nalso expand their personal and professional \\nnetworks. The duration period of this program \\nis one semester. Students are encouraged to \\ntransfer 6-12 credits of courses taken at the \\nexchange partner. Exchange scholarships are \\nalso available but are competitive. \\nInternship Program\\nAIT offers an opportunity to all students \\nenrolling in Master’s degree programs', metadata={'source': '../A7/docs/ait_pdf/AIT-BROCHURE.pdf', 'file_path': '../A7/docs/ait_pdf/AIT-BROCHURE.pdf', 'page': 0, 'total_pages': 2, 'format': 'PDF 1.4', 'title': '', 'author': '', 'subject': '', 'keywords': '', 'creator': 'Adobe InDesign CS5.5 (7.5)', 'producer': 'macOS Version 11.6 (Build 20G165) Quartz PDFContext', 'creationDate': \"D:20211117094024Z00'00'\", 'modDate': \"D:20211117094024Z00'00'\", 'trapped': ''}),\n",
       " Document(page_content=\"Exchange of students through a mobility and \\nexchange program; admission and registration rules \\napply according to the respective host institution \\nframeworks.\\nMTR Academy, Hong \\nKong\\nChina\\n2017-04-04\\n2020-04-04\\nGeneral partnership\\nMyanmar Engineering \\nSociety (MES)\\nMyanmar\\n2017-04-29\\n2022-04-29\\nProfessional masters degree program\\nEastern Economic \\nCorridor of Innovation, \\nEECi\\nThailand\\n2017-05-04\\n2027-05-04\\nAIT joins the Government of Thailand's initiative to \\ndevelop the EECi.\\nSiam University\\nThailand\\n2017-05-11\\n2022-05-10\\nPromoting collaboration in various academic \\nactivities; exchange of students, faculty, and staff \\nto participate in joint research projects; unified\", metadata={'source': '../A7/docs/ait_pdf/annual_report2017.pdf', 'file_path': '../A7/docs/ait_pdf/annual_report2017.pdf', 'page': 91, 'total_pages': 100, 'format': 'PDF 1.6', 'title': '', 'author': '', 'subject': '', 'keywords': '', 'creator': 'Adobe InDesign CS5.5 (7.5)', 'producer': 'Adobe PDF Library 9.9', 'creationDate': \"D:20181106144703+07'00'\", 'modDate': \"D:20181126105639+07'00'\", 'trapped': ''})]"
      ]
     },
     "execution_count": 9,
     "metadata": {},
     "output_type": "execute_result"
    }
   ],
   "source": [
    "# retriever.get_relevant_documents(\"What is Transformers\")\n",
    "\n",
    "retriever.get_relevant_documents(\"What is student exchange\")"
   ]
  },
  {
   "attachments": {},
   "cell_type": "markdown",
   "metadata": {},
   "source": [
    "## 3. Memory\n",
    "\n",
    "One of the core utility classes underpinning most (if not all) memory modules is the ChatMessageHistory class. This is a super lightweight wrapper that provides convenience methods for saving HumanMessages, AIMessages, and then fetching them all.\n",
    "\n",
    "You may want to use this class directly if you are managing memory outside of a chain.\n"
   ]
  },
  {
   "cell_type": "code",
   "execution_count": 10,
   "metadata": {},
   "outputs": [
    {
     "data": {
      "text/plain": [
       "ChatMessageHistory(messages=[])"
      ]
     },
     "execution_count": 10,
     "metadata": {},
     "output_type": "execute_result"
    }
   ],
   "source": [
    "from langchain.memory import ChatMessageHistory\n",
    "\n",
    "history = ChatMessageHistory()\n",
    "history"
   ]
  },
  {
   "cell_type": "code",
   "execution_count": 11,
   "metadata": {},
   "outputs": [],
   "source": [
    "history.add_user_message('hi')\n",
    "history.add_ai_message('Whats up?')\n",
    "history.add_user_message('How are you')\n",
    "history.add_ai_message('I\\'m quite good. How about you?')"
   ]
  },
  {
   "cell_type": "code",
   "execution_count": 38,
   "metadata": {},
   "outputs": [
    {
     "data": {
      "text/plain": [
       "ChatMessageHistory(messages=[HumanMessage(content='hi'), AIMessage(content='Whats up?'), HumanMessage(content='How are you'), AIMessage(content=\"I'm quite good. How about you?\")])"
      ]
     },
     "execution_count": 38,
     "metadata": {},
     "output_type": "execute_result"
    }
   ],
   "source": [
    "history"
   ]
  },
  {
   "attachments": {},
   "cell_type": "markdown",
   "metadata": {},
   "source": [
    "### 3.1 Memory types\n",
    "\n",
    "There are many different types of memory. Each has their own parameters, their own return types, and is useful in different scenarios. \n",
    "- Converstaion Buffer\n",
    "- Converstaion Buffer Window"
   ]
  },
  {
   "attachments": {},
   "cell_type": "markdown",
   "metadata": {},
   "source": [
    "What variables get returned from memory\n",
    "\n",
    "Before going into the chain, various variables are read from memory. These have specific names which need to align with the variables the chain expects. You can see what these variables are by calling memory.load_memory_variables({}). Note that the empty dictionary that we pass in is just a placeholder for real variables. If the memory type you are using is dependent upon the input variables, you may need to pass some in."
   ]
  },
  {
   "attachments": {},
   "cell_type": "markdown",
   "metadata": {},
   "source": [
    "In this case, you can see that load_memory_variables returns a single key, history. This means that your chain (and likely your prompt) should expect an input named history. You can usually control this variable through parameters on the memory class. For example, if you want the memory variables to be returned in the key chat_history you can do:"
   ]
  },
  {
   "attachments": {},
   "cell_type": "markdown",
   "metadata": {},
   "source": [
    "#### Converstaion Buffer\n",
    "This memory allows for storing messages and then extracts the messages in a variable."
   ]
  },
  {
   "cell_type": "code",
   "execution_count": 12,
   "metadata": {},
   "outputs": [
    {
     "data": {
      "text/plain": [
       "{'history': \"Human: hi\\nAI: What's up?\\nHuman: How are you?\\nAI: I'm quite good. How about you?\"}"
      ]
     },
     "execution_count": 12,
     "metadata": {},
     "output_type": "execute_result"
    }
   ],
   "source": [
    "from langchain.memory import ConversationBufferMemory\n",
    "\n",
    "memory = ConversationBufferMemory()\n",
    "memory.save_context({'input':'hi'}, {'output':'What\\'s up?'})\n",
    "memory.save_context({\"input\":'How are you?'},{'output': 'I\\'m quite good. How about you?'})\n",
    "memory.load_memory_variables({})"
   ]
  },
  {
   "cell_type": "code",
   "execution_count": 13,
   "metadata": {},
   "outputs": [
    {
     "data": {
      "text/plain": [
       "{'history': [HumanMessage(content='hi'),\n",
       "  AIMessage(content=\"What's up?\"),\n",
       "  HumanMessage(content='How are you?'),\n",
       "  AIMessage(content=\"I'm quite good. How about you?\")]}"
      ]
     },
     "execution_count": 13,
     "metadata": {},
     "output_type": "execute_result"
    }
   ],
   "source": [
    "from langchain.memory import ConversationBufferMemory\n",
    "\n",
    "memory = ConversationBufferMemory(return_messages = True)\n",
    "memory.save_context({'input':'hi'}, {'output':'What\\'s up?'})\n",
    "memory.save_context({\"input\":'How are you?'},{'output': 'I\\'m quite good. How about you?'})\n",
    "memory.load_memory_variables({})"
   ]
  },
  {
   "attachments": {},
   "cell_type": "markdown",
   "metadata": {},
   "source": [
    "#### Conversation Buffer Window\n",
    "- it keeps a list of the interactions of the conversation over time. \n",
    "- it only uses the last K interactions. \n",
    "- it can be useful for keeping a sliding window of the most recent interactions, so the buffer does not get too large."
   ]
  },
  {
   "cell_type": "code",
   "execution_count": 14,
   "metadata": {},
   "outputs": [
    {
     "data": {
      "text/plain": [
       "{'history': \"Human: How are you?\\nAI: I'm quite good. How about you?\"}"
      ]
     },
     "execution_count": 14,
     "metadata": {},
     "output_type": "execute_result"
    }
   ],
   "source": [
    "from langchain.memory import ConversationBufferWindowMemory\n",
    "\n",
    "memory = ConversationBufferWindowMemory(k=1)\n",
    "memory.save_context({'input':'hi'}, {'output':'What\\'s up?'})\n",
    "memory.save_context({\"input\":'How are you?'},{'output': 'I\\'m quite good. How about you?'})\n",
    "memory.load_memory_variables({})"
   ]
  },
  {
   "attachments": {},
   "cell_type": "markdown",
   "metadata": {},
   "source": [
    "## 4. Chain\n",
    "\n",
    "Using an LLM in isolation is fine for simple applications, but more complex applications require chaining LLMs - either with each other or with other components.\n",
    "\n",
    "An `LLMChain` is a simple chain that adds some functionality around language models.\n",
    "- it consists of a `PromptTemplate` and a `LM` (either an LLM or chat model).\n",
    "- it formats the prompt template using the input key values provided (and also memory key values, if available), \n",
    "- it passes the formatted string to LLM and returns the LLM output.\n",
    "\n",
    "Note : [Download Fastchat Model Here](https://huggingface.co/lmsys/fastchat-t5-3b-v1.0)"
   ]
  },
  {
   "cell_type": "code",
   "execution_count": 25,
   "metadata": {},
   "outputs": [],
   "source": [
    "# %cd ./models\n",
    "# !git clone https://huggingface.co/lmsys/fastchat-t5-3b-v1.0\n",
    "\n",
    "%cd ./model_gpt2\n",
    "!git clone https://huggingface.co/anas-awadalla/gpt2-span-head-few-shot-k-16-finetuned-squad-seed-0"
   ]
  },
  {
   "cell_type": "code",
   "execution_count": 61,
   "metadata": {},
   "outputs": [],
   "source": [
    "from transformers import AutoTokenizer, pipeline, AutoModelForSeq2SeqLM, AutoModelForCausalLM, GPT2Tokenizer, GPT2Model\n",
    "from transformers import BitsAndBytesConfig\n",
    "from langchain import HuggingFacePipeline\n",
    "import torch\n",
    "\n",
    "# model_id = '../A7/models/fastchat-t5-3b-v1.0/'\n",
    "\n",
    "# model_id = 'D:/AIT-2023/NLP/A7/model_gpt2/gpt2-span-head-few-shot-k-16-finetuned-squad-seed-0'\n",
    "\n",
    "model_id = '../A7/model_gpt2/gpt2-span-head-few-shot-k-16-finetuned-squad-seed-0'\n",
    "\n",
    "tokenizer = AutoTokenizer.from_pretrained(model_id)\n",
    "\n",
    "# tokenizer = GPT2Tokenizer.from_pretrained('gpt2')\n",
    "\n",
    "# tokenizer.pad_token_id = tokenizer.eos_token_id\n",
    "\n",
    "tokenizer.pad_token = tokenizer.eos_token\n",
    "\n",
    "# bitsandbyte_config = BitsAndBytesConfig(\n",
    "#     load_in_4bit = True,\n",
    "#     bnb_4bit_quant_type = \"nf4\",\n",
    "#     bnb_4bit_compute_dtype = torch.float16,\n",
    "#     bnb_4bit_use_double_quant = True\n",
    "# )\n",
    "\n",
    "# model = AutoModelForCausalLM.from_pretrained(\n",
    "#     model_id,\n",
    "#     # quantization_config=bitsandbyte_config,\n",
    "#     device_map='cuda:0',\n",
    "#     load_in_8bit=True\n",
    "# )\n",
    "\n",
    "model = AutoModelForCausalLM.from_pretrained(model_id)\n",
    "\n",
    "# model = GPT2Model.from_pretrained('gpt2')\n",
    "\n",
    "# model = GPT2Model.from_pretrained(\n",
    "#     'gpt2',\n",
    "#     # quantization_config = bitsandbyte_config, #caution Nvidia\n",
    "#     quantization_config = None, #caution Nvidia\n",
    "#     # device_map = 'auto',\n",
    "#     load_in_8bit = True\n",
    "# )\n",
    "\n",
    "pipe = pipeline(\n",
    "    task=\"text-generation\",\n",
    "    model=model,\n",
    "    tokenizer=tokenizer,\n",
    "    max_new_tokens = 50,\n",
    "    model_kwargs = {\n",
    "        \"temperature\" : 0,\n",
    "        \"repetition_penalty\": 1.5\n",
    "    }\n",
    ")\n",
    "\n",
    "llm = HuggingFacePipeline(pipeline = pipe)"
   ]
  },
  {
   "attachments": {},
   "cell_type": "markdown",
   "metadata": {},
   "source": [
    "### [Class ConversationalRetrievalChain](https://api.python.langchain.com/en/latest/_modules/langchain/chains/conversational_retrieval/base.html#ConversationalRetrievalChain)\n",
    "\n",
    "- `retriever` : Retriever to use to fetch documents.\n",
    "\n",
    "- `combine_docs_chain` : The chain used to combine any retrieved documents.\n",
    "\n",
    "- `question_generator`: The chain used to generate a new question for the sake of retrieval. This chain will take in the current question (with variable question) and any chat history (with variable chat_history) and will produce a new standalone question to be used later on.\n",
    "\n",
    "- `return_source_documents` : Return the retrieved source documents as part of the final result.\n",
    "\n",
    "- `get_chat_history` : An optional function to get a string of the chat history. If None is provided, will use a default.\n",
    "\n",
    "- `return_generated_question` : Return the generated question as part of the final result.\n",
    "\n",
    "- `response_if_no_docs_found` : If specified, the chain will return a fixed response if no docs are found for the question.\n"
   ]
  },
  {
   "attachments": {},
   "cell_type": "markdown",
   "metadata": {},
   "source": [
    "`question_generator`"
   ]
  },
  {
   "cell_type": "code",
   "execution_count": 62,
   "metadata": {},
   "outputs": [],
   "source": [
    "from langchain.chains import LLMChain\n",
    "from langchain.chains.conversational_retrieval.prompts import CONDENSE_QUESTION_PROMPT\n",
    "from langchain.memory import ConversationBufferWindowMemory\n",
    "from langchain.chains.question_answering import load_qa_chain\n",
    "from langchain.chains import ConversationalRetrievalChain"
   ]
  },
  {
   "cell_type": "code",
   "execution_count": 63,
   "metadata": {},
   "outputs": [
    {
     "data": {
      "text/plain": [
       "PromptTemplate(input_variables=['chat_history', 'question'], template='Given the following conversation and a follow up question, rephrase the follow up question to be a standalone question, in its original language.\\n\\nChat History:\\n{chat_history}\\nFollow Up Input: {question}\\nStandalone question:')"
      ]
     },
     "execution_count": 63,
     "metadata": {},
     "output_type": "execute_result"
    }
   ],
   "source": [
    "CONDENSE_QUESTION_PROMPT"
   ]
  },
  {
   "cell_type": "code",
   "execution_count": 64,
   "metadata": {},
   "outputs": [],
   "source": [
    "question_generator = LLMChain(\n",
    "    llm = llm,\n",
    "    prompt = CONDENSE_QUESTION_PROMPT,\n",
    "    verbose = True\n",
    ")"
   ]
  },
  {
   "cell_type": "code",
   "execution_count": 65,
   "metadata": {},
   "outputs": [
    {
     "name": "stderr",
     "output_type": "stream",
     "text": [
      "Setting `pad_token_id` to `eos_token_id`:50256 for open-end generation.\n"
     ]
    },
    {
     "name": "stdout",
     "output_type": "stream",
     "text": [
      "\n",
      "\n",
      "\u001b[1m> Entering new LLMChain chain...\u001b[0m\n",
      "Prompt after formatting:\n",
      "\u001b[32;1m\u001b[1;3mGiven the following conversation and a follow up question, rephrase the follow up question to be a standalone question, in its original language.\n",
      "\n",
      "Chat History:\n",
      "Human:What is Machine Learning\n",
      "AI:\n",
      "Human:What is Deep Learning\n",
      "AI:\n",
      "Follow Up Input: Comparing both of them\n",
      "Standalone question:\u001b[0m\n",
      "\n",
      "\u001b[1m> Finished chain.\u001b[0m\n"
     ]
    },
    {
     "data": {
      "text/plain": [
       "{'chat_history': 'Human:What is Machine Learning\\nAI:\\nHuman:What is Deep Learning\\nAI:',\n",
       " 'question': 'Comparing both of them',\n",
       " 'text': ' Is Machine Learning An Important Question or Is It Just Some Random Thing About Which Computer Today Makes Us Human?Answer:Maybe, yeah.Machine learning is almost entirely based on direct comparisons of variables and tasks we use to solve real-world problems. For'}"
      ]
     },
     "execution_count": 65,
     "metadata": {},
     "output_type": "execute_result"
    }
   ],
   "source": [
    "query = 'Comparing both of them'\n",
    "chat_history = \"Human:What is Machine Learning\\nAI:\\nHuman:What is Deep Learning\\nAI:\"\n",
    "\n",
    "question_generator({'chat_history' : chat_history, \"question\" : query})"
   ]
  },
  {
   "attachments": {},
   "cell_type": "markdown",
   "metadata": {},
   "source": [
    "`combine_docs_chain`"
   ]
  },
  {
   "cell_type": "code",
   "execution_count": 66,
   "metadata": {},
   "outputs": [
    {
     "data": {
      "text/plain": [
       "StuffDocumentsChain(verbose=True, llm_chain=LLMChain(verbose=True, prompt=PromptTemplate(input_variables=['context', 'question'], template=\"I'm your friendly NLP chatbot named ChakyBot, here to assist Chaky and Gun with any questions they have about Natural Language Processing (NLP). \\n    If you're curious about how probability works in the context of NLP, feel free to ask any questions you may have. \\n    Whether it's about probabilistic models, language models, or any other related topic, \\n    I'm here to help break down complex concepts into easy-to-understand explanations.\\n    Just let me know what you're wondering about, and I'll do my best to guide you through it!\\n    {context}\\n    Question: {question}\\n    Answer:\"), llm=HuggingFacePipeline(pipeline=<transformers.pipelines.text_generation.TextGenerationPipeline object at 0x000001E4ACEF0450>)), document_variable_name='context')"
      ]
     },
     "execution_count": 66,
     "metadata": {},
     "output_type": "execute_result"
    }
   ],
   "source": [
    "doc_chain = load_qa_chain(\n",
    "    llm = llm,\n",
    "    chain_type = 'stuff',\n",
    "    prompt = PROMPT,\n",
    "    verbose = True\n",
    ")\n",
    "doc_chain"
   ]
  },
  {
   "cell_type": "code",
   "execution_count": 67,
   "metadata": {
    "scrolled": true
   },
   "outputs": [
    {
     "name": "stderr",
     "output_type": "stream",
     "text": [
      "Setting `pad_token_id` to `eos_token_id`:50256 for open-end generation.\n"
     ]
    },
    {
     "name": "stdout",
     "output_type": "stream",
     "text": [
      "\n",
      "\n",
      "\u001b[1m> Entering new StuffDocumentsChain chain...\u001b[0m\n",
      "\n",
      "\n",
      "\u001b[1m> Entering new LLMChain chain...\u001b[0m\n",
      "Prompt after formatting:\n",
      "\u001b[32;1m\u001b[1;3mI'm your friendly NLP chatbot named ChakyBot, here to assist Chaky and Gun with any questions they have about Natural Language Processing (NLP). \n",
      "    If you're curious about how probability works in the context of NLP, feel free to ask any questions you may have. \n",
      "    Whether it's about probabilistic models, language models, or any other related topic, \n",
      "    I'm here to help break down complex concepts into easy-to-understand explanations.\n",
      "    Just let me know what you're wondering about, and I'll do my best to guide you through it!\n",
      "    68\n",
      "AIT ANNUAL REPORT 2011\n",
      "The Asian Institute of Technology (AIT) has pro-\n",
      "vided graduate level education as per the devel-\n",
      "opment needs of countries in the Asian region for \n",
      "more than 50 years. Today, with the emergence \n",
      "of some economies in Asia and the creation of in-\n",
      "stitutions possessing strong research infrastruc-\n",
      "ture, AIT intends to create a niche for itself by \n",
      "building rapidly on its existing strengths. \n",
      "The research strategy developed in 2011 was the \n",
      "first of its kind in the history of AIT and has been \n",
      "developed with this in mind. During the year, \n",
      "AIT Research Strategy 2012-2016 was created \n",
      "with the understanding that research in today’s\n",
      "\n",
      "About AIT\n",
      "Founded in 1959, the Asian Institute \n",
      "of Technology (AIT) is an international \n",
      "English-speaking postgraduate insti-\n",
      "tution, which focuses on engineering \n",
      "and technology, environment, and \n",
      "management studies. AIT’s rigorous \n",
      "academic, research, and experiential \n",
      "outreach programs prepare grad-\n",
      "uates for professional success and \n",
      "leadership roles in Asia and beyond, \n",
      "while promoting technological change \n",
      "and sustainable development in the \n",
      "Asia-Pacific region. \n",
      "Located in both the heart of down-\n",
      "town Bangkok (for evening/weekend \n",
      "classes) and at the lush green cam-\n",
      "pus just north of the city (for daytime \n",
      "classes), AIT operates as a multicultur-\n",
      "al community where a cosmopolitan\n",
      "\n",
      "7\n",
      "AIT ANNUAL REPORT 2011\n",
      "AIT Overview\n",
      "HOME \n",
      "to renowned experts, in-\n",
      "ternational centers, and \n",
      "international academic programs, the Asian \n",
      "Institute of Technology (AIT) situated north \n",
      "of Bangkok, Thailand, is one of the leading \n",
      "higher educational and research institutions \n",
      "in Asia.\n",
      "Founded in 1959, AIT fosters a complete \n",
      "multicultural learning experience in English. \n",
      "More than a university, AIT is a unique inter-\n",
      "national organization of higher learning that \n",
      "is regionally focused, global in outlook and \n",
      "cosmopolitan in character.\n",
      "It carries out its mission … “to develop highly \n",
      "qualified and committed professionals who \n",
      "play a leading role in the region’s sustain-\n",
      "\n",
      "3 \n",
      "4. AIT is a member of the Climate Technology \n",
      "Centre and Network (CTCN) consortium, the \n",
      "operational arm of the UNFCCC Technology \n",
      "Mechanism, hosted and led by the UN Environment \n",
      "Program and the UN Industrial Development \n",
      "Organization. AIT provides technology solutions, \n",
      "capacity building, and advice on policy, legal, and \n",
      "regulatory frameworks tailored to the needs of \n",
      "Nepal, Bhutan, and Timor-Leste. AIT continues to \n",
      "provide expert technical assistance to technological \n",
      "and developmental intervention   for countries in \n",
      "the region and beyond as part of this global project. \n",
      "5. Along with DHI (Singapore) and ERN International \n",
      "(Mexico), AIT helped create the first comprehensive\n",
      "    Question: What is AIT?\n",
      "    Answer:\u001b[0m\n",
      "\n",
      "\u001b[1m> Finished chain.\u001b[0m\n",
      "\n",
      "\u001b[1m> Finished chain.\u001b[0m\n"
     ]
    },
    {
     "data": {
      "text/plain": [
       "{'input_documents': [Document(page_content='68\\nAIT ANNUAL REPORT 2011\\nThe Asian Institute of Technology (AIT) has pro-\\nvided graduate level education as per the devel-\\nopment needs of countries in the Asian region for \\nmore than 50 years. Today, with the emergence \\nof some economies in Asia and the creation of in-\\nstitutions possessing strong research infrastruc-\\nture, AIT intends to create a niche for itself by \\nbuilding rapidly on its existing strengths. \\nThe research strategy developed in 2011 was the \\nfirst of its kind in the history of AIT and has been \\ndeveloped with this in mind. During the year, \\nAIT Research Strategy 2012-2016 was created \\nwith the understanding that research in today’s', metadata={'source': '../A7/docs/ait_pdf/AIT.AnnualReport.2011.pdf', 'file_path': '../A7/docs/ait_pdf/AIT.AnnualReport.2011.pdf', 'page': 69, 'total_pages': 152, 'format': 'PDF 1.6', 'title': '', 'author': '', 'subject': '', 'keywords': '', 'creator': 'Adobe InDesign CS5.5 (7.5)', 'producer': 'Adobe PDF Library 9.9', 'creationDate': \"D:20130102113910+07'00'\", 'modDate': \"D:20130102135539+07'00'\", 'trapped': ''}),\n",
       "  Document(page_content='About AIT\\nFounded in 1959, the Asian Institute \\nof Technology (AIT) is an international \\nEnglish-speaking postgraduate insti-\\ntution, which focuses on engineering \\nand technology, environment, and \\nmanagement studies. AIT’s rigorous \\nacademic, research, and experiential \\noutreach programs prepare grad-\\nuates for professional success and \\nleadership roles in Asia and beyond, \\nwhile promoting technological change \\nand sustainable development in the \\nAsia-Pacific region. \\nLocated in both the heart of down-\\ntown Bangkok (for evening/weekend \\nclasses) and at the lush green cam-\\npus just north of the city (for daytime \\nclasses), AIT operates as a multicultur-\\nal community where a cosmopolitan', metadata={'source': '../A7/docs/ait_pdf/SOM_Brochure_2021__single.pdf', 'file_path': '../A7/docs/ait_pdf/SOM_Brochure_2021__single.pdf', 'page': 3, 'total_pages': 42, 'format': 'PDF 1.3', 'title': 'SOM_Brochure_2021_Draft_23.indd', 'author': '', 'subject': '', 'keywords': '', 'creator': 'Adobe InDesign CC 2017 (Macintosh)', 'producer': 'Adobe PDF Library 15.0', 'creationDate': \"D:20210811132002+07'00'\", 'modDate': \"D:20210811132120+07'00'\", 'trapped': ''}),\n",
       "  Document(page_content='7\\nAIT ANNUAL REPORT 2011\\nAIT Overview\\nHOME \\nto renowned experts, in-\\nternational centers, and \\ninternational academic programs, the Asian \\nInstitute of Technology (AIT) situated north \\nof Bangkok, Thailand, is one of the leading \\nhigher educational and research institutions \\nin Asia.\\nFounded in 1959, AIT fosters a complete \\nmulticultural learning experience in English. \\nMore than a university, AIT is a unique inter-\\nnational organization of higher learning that \\nis regionally focused, global in outlook and \\ncosmopolitan in character.\\nIt carries out its mission … “to develop highly \\nqualified and committed professionals who \\nplay a leading role in the region’s sustain-', metadata={'source': '../A7/docs/ait_pdf/AIT.AnnualReport.2011.pdf', 'file_path': '../A7/docs/ait_pdf/AIT.AnnualReport.2011.pdf', 'page': 8, 'total_pages': 152, 'format': 'PDF 1.6', 'title': '', 'author': '', 'subject': '', 'keywords': '', 'creator': 'Adobe InDesign CS5.5 (7.5)', 'producer': 'Adobe PDF Library 9.9', 'creationDate': \"D:20130102113910+07'00'\", 'modDate': \"D:20130102135539+07'00'\", 'trapped': ''}),\n",
       "  Document(page_content='3 \\n4. AIT is a member of the Climate Technology \\nCentre and Network (CTCN) consortium, the \\noperational arm of the UNFCCC Technology \\nMechanism, hosted and led by the UN Environment \\nProgram and the UN Industrial Development \\nOrganization. AIT provides technology solutions, \\ncapacity building, and advice on policy, legal, and \\nregulatory frameworks tailored to the needs of \\nNepal, Bhutan, and Timor-Leste. AIT continues to \\nprovide expert technical assistance to technological \\nand developmental intervention   for countries in \\nthe region and beyond as part of this global project. \\n5. Along with DHI (Singapore) and ERN International \\n(Mexico), AIT helped create the first comprehensive', metadata={'source': '../A7/docs/ait_pdf/Annual-Research-Report-2018.pdf', 'file_path': '../A7/docs/ait_pdf/Annual-Research-Report-2018.pdf', 'page': 4, 'total_pages': 137, 'format': 'PDF 1.5', 'title': 'Annual Report on Research 2018', 'author': 'User', 'subject': '', 'keywords': '', 'creator': 'Microsoft® Word 2016', 'producer': 'Microsoft® Word 2016', 'creationDate': \"D:20200515150229+07'00'\", 'modDate': \"D:20200515150229+07'00'\", 'trapped': ''})],\n",
       " 'question': 'What is AIT?',\n",
       " 'output_text': ' AIT is a U.S.-based, 2-\\nAward-winning global research institute that, in addition to\\n\\ndeveloping cutting-edge innovations in the fields of biomedical research,\\n\\nhas an overall annual budget of almost $'}"
      ]
     },
     "execution_count": 67,
     "metadata": {},
     "output_type": "execute_result"
    }
   ],
   "source": [
    "# query = \"What is Transformers?\"\n",
    "\n",
    "query = \"What is AIT?\"\n",
    "input_document = retriever.get_relevant_documents(query)\n",
    "\n",
    "doc_chain({'input_documents':input_document, 'question':query})"
   ]
  },
  {
   "cell_type": "code",
   "execution_count": 68,
   "metadata": {},
   "outputs": [
    {
     "data": {
      "text/plain": [
       "ConversationalRetrievalChain(memory=ConversationBufferWindowMemory(output_key='answer', return_messages=True, memory_key='chat_history', k=3), verbose=True, combine_docs_chain=StuffDocumentsChain(verbose=True, llm_chain=LLMChain(verbose=True, prompt=PromptTemplate(input_variables=['context', 'question'], template=\"I'm your friendly NLP chatbot named ChakyBot, here to assist Chaky and Gun with any questions they have about Natural Language Processing (NLP). \\n    If you're curious about how probability works in the context of NLP, feel free to ask any questions you may have. \\n    Whether it's about probabilistic models, language models, or any other related topic, \\n    I'm here to help break down complex concepts into easy-to-understand explanations.\\n    Just let me know what you're wondering about, and I'll do my best to guide you through it!\\n    {context}\\n    Question: {question}\\n    Answer:\"), llm=HuggingFacePipeline(pipeline=<transformers.pipelines.text_generation.TextGenerationPipeline object at 0x000001E4ACEF0450>)), document_variable_name='context'), question_generator=LLMChain(verbose=True, prompt=PromptTemplate(input_variables=['chat_history', 'question'], template='Given the following conversation and a follow up question, rephrase the follow up question to be a standalone question, in its original language.\\n\\nChat History:\\n{chat_history}\\nFollow Up Input: {question}\\nStandalone question:'), llm=HuggingFacePipeline(pipeline=<transformers.pipelines.text_generation.TextGenerationPipeline object at 0x000001E4ACEF0450>)), return_source_documents=True, get_chat_history=<function <lambda> at 0x000001E4ADED76A0>, retriever=VectorStoreRetriever(tags=['FAISS', 'HuggingFaceInstructEmbeddings'], vectorstore=<langchain_community.vectorstores.faiss.FAISS object at 0x000001E44D807950>))"
      ]
     },
     "execution_count": 68,
     "metadata": {},
     "output_type": "execute_result"
    }
   ],
   "source": [
    "memory = ConversationBufferWindowMemory(\n",
    "    k=3, \n",
    "    memory_key = \"chat_history\",\n",
    "    return_messages = True,\n",
    "    output_key = 'answer'\n",
    ")\n",
    "\n",
    "chain = ConversationalRetrievalChain(\n",
    "    retriever=retriever,\n",
    "    question_generator=question_generator,\n",
    "    combine_docs_chain=doc_chain,\n",
    "    return_source_documents=True,\n",
    "    memory=memory,\n",
    "    verbose=True,\n",
    "    get_chat_history=lambda h : h\n",
    ")\n",
    "chain"
   ]
  },
  {
   "attachments": {},
   "cell_type": "markdown",
   "metadata": {},
   "source": [
    "## 5. Chatbot"
   ]
  },
  {
   "cell_type": "code",
   "execution_count": 69,
   "metadata": {},
   "outputs": [
    {
     "name": "stderr",
     "output_type": "stream",
     "text": [
      "Setting `pad_token_id` to `eos_token_id`:50256 for open-end generation.\n"
     ]
    },
    {
     "name": "stdout",
     "output_type": "stream",
     "text": [
      "\n",
      "\n",
      "\u001b[1m> Entering new ConversationalRetrievalChain chain...\u001b[0m\n",
      "\n",
      "\n",
      "\u001b[1m> Entering new StuffDocumentsChain chain...\u001b[0m\n",
      "\n",
      "\n",
      "\u001b[1m> Entering new LLMChain chain...\u001b[0m\n",
      "Prompt after formatting:\n",
      "\u001b[32;1m\u001b[1;3mI'm your friendly NLP chatbot named ChakyBot, here to assist Chaky and Gun with any questions they have about Natural Language Processing (NLP). \n",
      "    If you're curious about how probability works in the context of NLP, feel free to ask any questions you may have. \n",
      "    Whether it's about probabilistic models, language models, or any other related topic, \n",
      "    I'm here to help break down complex concepts into easy-to-understand explanations.\n",
      "    Just let me know what you're wondering about, and I'll do my best to guide you through it!\n",
      "    Factsheet \n",
      "STUDENT \n",
      "EXCHANGE \n",
      "P R O G R A M M E \n",
      "Sports & Fitness Centre \n",
      "Health Care \n",
      "Bank \n",
      "Post Ofﬁce \n",
      "Computing Facilities \n",
      "Other Facilities \n",
      "Student Associations \n",
      "Exchange services\n",
      "\n",
      "EXCHANGE \n",
      "PROGRAMS\n",
      "Full-time (22 months) Master’s degree \n",
      "students have the opportunity to take \n",
      "part in an exchange or with one of over \n",
      "50 of our partner universities around the \n",
      "world. The aim of the exchange programs \n",
      "is to immerse students in another culture \n",
      "for one or two semesters, and to expose \n",
      "them to different learning approaches. \n",
      "Students can earn full credit for their \n",
      "semester(s) abroad. A few of our notable \n",
      "partners include:\n",
      "\n",
      "O P P O R T U N I T I E S\n",
      "Student Exchange Program\n",
      "Student Exchange Program offers an \n",
      "opportunity for AIT students to learn inside \n",
      "and outside classrooms in a partnering  \n",
      "world-class university. Students in this program \n",
      "will cultivate academic knowledge, transversal \n",
      "skills, and  intercultural communication, and will \n",
      "also expand their personal and professional \n",
      "networks. The duration period of this program \n",
      "is one semester. Students are encouraged to \n",
      "transfer 6-12 credits of courses taken at the \n",
      "exchange partner. Exchange scholarships are \n",
      "also available but are competitive. \n",
      "Internship Program\n",
      "AIT offers an opportunity to all students \n",
      "enrolling in Master’s degree programs\n",
      "\n",
      "Exchange of students through a mobility and \n",
      "exchange program; admission and registration rules \n",
      "apply according to the respective host institution \n",
      "frameworks.\n",
      "MTR Academy, Hong \n",
      "Kong\n",
      "China\n",
      "2017-04-04\n",
      "2020-04-04\n",
      "General partnership\n",
      "Myanmar Engineering \n",
      "Society (MES)\n",
      "Myanmar\n",
      "2017-04-29\n",
      "2022-04-29\n",
      "Professional masters degree program\n",
      "Eastern Economic \n",
      "Corridor of Innovation, \n",
      "EECi\n",
      "Thailand\n",
      "2017-05-04\n",
      "2027-05-04\n",
      "AIT joins the Government of Thailand's initiative to \n",
      "develop the EECi.\n",
      "Siam University\n",
      "Thailand\n",
      "2017-05-11\n",
      "2022-05-10\n",
      "Promoting collaboration in various academic \n",
      "activities; exchange of students, faculty, and staff \n",
      "to participate in joint research projects; unified\n",
      "    Question: What is student exchange?\n",
      "    Answer:\u001b[0m\n",
      "\n",
      "\u001b[1m> Finished chain.\u001b[0m\n",
      "\n",
      "\u001b[1m> Finished chain.\u001b[0m\n",
      "\n",
      "\u001b[1m> Finished chain.\u001b[0m\n"
     ]
    },
    {
     "data": {
      "text/plain": [
       "{'question': 'What is student exchange?',\n",
       " 'chat_history': [],\n",
       " 'answer': ' Students at the University of \\u200b\\nThailand can take part in  exchange of students, faculty, and staff \\nin a joint project.\\nUniversity of \\u200b \\u200b \\u200bThailand invites you to explore\\nuniversities around the world and collaborate',\n",
       " 'source_documents': [Document(page_content='Factsheet \\nSTUDENT \\nEXCHANGE \\nP R O G R A M M E \\nSports & Fitness Centre \\nHealth Care \\nBank \\nPost Ofﬁce \\nComputing Facilities \\nOther Facilities \\nStudent Associations \\nExchange services', metadata={'source': '../A7/docs/ait_pdf/IIMA-Factsheet-2024-25.pdf', 'file_path': '../A7/docs/ait_pdf/IIMA-Factsheet-2024-25.pdf', 'page': 3, 'total_pages': 4, 'format': 'PDF 1.7', 'title': 'Untitled-1.cdr', 'author': 'Designer IIMA', 'subject': '', 'keywords': '', 'creator': 'CorelDRAW 2021', 'producer': 'Corel PDF Engine Version 23.5.0.506', 'creationDate': \"D:20240118172918+05'30'\", 'modDate': \"D:20240118172918+05'30'\", 'trapped': ''}),\n",
       "  Document(page_content='EXCHANGE \\nPROGRAMS\\nFull-time (22 months) Master’s degree \\nstudents have the opportunity to take \\npart in an exchange or with one of over \\n50 of our partner universities around the \\nworld. The aim of the exchange programs \\nis to immerse students in another culture \\nfor one or two semesters, and to expose \\nthem to different learning approaches. \\nStudents can earn full credit for their \\nsemester(s) abroad. A few of our notable \\npartners include:', metadata={'source': '../A7/docs/ait_pdf/SOM_Brochure_2021__single.pdf', 'file_path': '../A7/docs/ait_pdf/SOM_Brochure_2021__single.pdf', 'page': 26, 'total_pages': 42, 'format': 'PDF 1.3', 'title': 'SOM_Brochure_2021_Draft_23.indd', 'author': '', 'subject': '', 'keywords': '', 'creator': 'Adobe InDesign CC 2017 (Macintosh)', 'producer': 'Adobe PDF Library 15.0', 'creationDate': \"D:20210811132002+07'00'\", 'modDate': \"D:20210811132120+07'00'\", 'trapped': ''}),\n",
       "  Document(page_content='O P P O R T U N I T I E S\\nStudent Exchange Program\\nStudent Exchange Program offers an \\nopportunity for AIT students to learn inside \\nand outside classrooms in a partnering  \\nworld-class university. Students in this program \\nwill cultivate academic knowledge, transversal \\nskills, and  intercultural communication, and will \\nalso expand their personal and professional \\nnetworks. The duration period of this program \\nis one semester. Students are encouraged to \\ntransfer 6-12 credits of courses taken at the \\nexchange partner. Exchange scholarships are \\nalso available but are competitive. \\nInternship Program\\nAIT offers an opportunity to all students \\nenrolling in Master’s degree programs', metadata={'source': '../A7/docs/ait_pdf/AIT-BROCHURE.pdf', 'file_path': '../A7/docs/ait_pdf/AIT-BROCHURE.pdf', 'page': 0, 'total_pages': 2, 'format': 'PDF 1.4', 'title': '', 'author': '', 'subject': '', 'keywords': '', 'creator': 'Adobe InDesign CS5.5 (7.5)', 'producer': 'macOS Version 11.6 (Build 20G165) Quartz PDFContext', 'creationDate': \"D:20211117094024Z00'00'\", 'modDate': \"D:20211117094024Z00'00'\", 'trapped': ''}),\n",
       "  Document(page_content=\"Exchange of students through a mobility and \\nexchange program; admission and registration rules \\napply according to the respective host institution \\nframeworks.\\nMTR Academy, Hong \\nKong\\nChina\\n2017-04-04\\n2020-04-04\\nGeneral partnership\\nMyanmar Engineering \\nSociety (MES)\\nMyanmar\\n2017-04-29\\n2022-04-29\\nProfessional masters degree program\\nEastern Economic \\nCorridor of Innovation, \\nEECi\\nThailand\\n2017-05-04\\n2027-05-04\\nAIT joins the Government of Thailand's initiative to \\ndevelop the EECi.\\nSiam University\\nThailand\\n2017-05-11\\n2022-05-10\\nPromoting collaboration in various academic \\nactivities; exchange of students, faculty, and staff \\nto participate in joint research projects; unified\", metadata={'source': '../A7/docs/ait_pdf/annual_report2017.pdf', 'file_path': '../A7/docs/ait_pdf/annual_report2017.pdf', 'page': 91, 'total_pages': 100, 'format': 'PDF 1.6', 'title': '', 'author': '', 'subject': '', 'keywords': '', 'creator': 'Adobe InDesign CS5.5 (7.5)', 'producer': 'Adobe PDF Library 9.9', 'creationDate': \"D:20181106144703+07'00'\", 'modDate': \"D:20181126105639+07'00'\", 'trapped': ''})]}"
      ]
     },
     "execution_count": 69,
     "metadata": {},
     "output_type": "execute_result"
    }
   ],
   "source": [
    "# prompt_question = \"Who are you by the way?\"\n",
    "\n",
    "prompt_question = \"What is student exchange?\"\n",
    "answer = chain({\"question\":prompt_question})\n",
    "answer"
   ]
  },
  {
   "cell_type": "code",
   "execution_count": 70,
   "metadata": {},
   "outputs": [
    {
     "name": "stderr",
     "output_type": "stream",
     "text": [
      "Setting `pad_token_id` to `eos_token_id`:50256 for open-end generation.\n"
     ]
    },
    {
     "name": "stdout",
     "output_type": "stream",
     "text": [
      "\n",
      "\n",
      "\u001b[1m> Entering new ConversationalRetrievalChain chain...\u001b[0m\n",
      "\n",
      "\n",
      "\u001b[1m> Entering new LLMChain chain...\u001b[0m\n",
      "Prompt after formatting:\n",
      "\u001b[32;1m\u001b[1;3mGiven the following conversation and a follow up question, rephrase the follow up question to be a standalone question, in its original language.\n",
      "\n",
      "Chat History:\n",
      "[HumanMessage(content='What is student exchange?'), AIMessage(content=' Students at the University of \\u200b\\nThailand can take part in  exchange of students, faculty, and staff \\nin a joint project.\\nUniversity of \\u200b \\u200b \\u200bThailand invites you to explore\\nuniversities around the world and collaborate')]\n",
      "Follow Up Input: What is student exchange?\n",
      "Standalone question:\u001b[0m\n"
     ]
    },
    {
     "name": "stderr",
     "output_type": "stream",
     "text": [
      "Setting `pad_token_id` to `eos_token_id`:50256 for open-end generation.\n"
     ]
    },
    {
     "name": "stdout",
     "output_type": "stream",
     "text": [
      "\n",
      "\u001b[1m> Finished chain.\u001b[0m\n",
      "\n",
      "\n",
      "\u001b[1m> Entering new StuffDocumentsChain chain...\u001b[0m\n",
      "\n",
      "\n",
      "\u001b[1m> Entering new LLMChain chain...\u001b[0m\n",
      "Prompt after formatting:\n",
      "\u001b[32;1m\u001b[1;3mI'm your friendly NLP chatbot named ChakyBot, here to assist Chaky and Gun with any questions they have about Natural Language Processing (NLP). \n",
      "    If you're curious about how probability works in the context of NLP, feel free to ask any questions you may have. \n",
      "    Whether it's about probabilistic models, language models, or any other related topic, \n",
      "    I'm here to help break down complex concepts into easy-to-understand explanations.\n",
      "    Just let me know what you're wondering about, and I'll do my best to guide you through it!\n",
      "    Factsheet \n",
      "STUDENT \n",
      "EXCHANGE \n",
      "P R O G R A M M E \n",
      "Sports & Fitness Centre \n",
      "Health Care \n",
      "Bank \n",
      "Post Ofﬁce \n",
      "Computing Facilities \n",
      "Other Facilities \n",
      "Student Associations \n",
      "Exchange services\n",
      "\n",
      "2.4.2 Data and Information Collection \n",
      "2.5 \n",
      "Quality Assurance \n",
      "2.6 \n",
      "Gender Sensitivity/Care\n",
      "2.7 \n",
      "Limitations of the Assessment \n",
      "Chapter 3: Socio Economic Proﬁle\n",
      "3.1 \n",
      "Proﬁle of the Study Area \n",
      " \n",
      "3.1.1 Camp selection\n",
      "3.2 \n",
      "Proﬁle of the Participants \n",
      "Chapter 4: Observation and Findings\n",
      "4.1 \n",
      "Key Findings \n",
      " \n",
      "4.1.1 Context Analysis\n",
      " \n",
      "4.1.2 Needs Assessment & Targeting\n",
      " \n",
      "4.1.3 Beneﬁciary Satisfaction\n",
      " \n",
      "4.1.4 Participation\n",
      " \n",
      "4.1.5 Empowerment \n",
      " \n",
      "4.1.6 Gender and Mainstreaming Protection\n",
      " \n",
      "4.1.7 Targeting & Accountability\n",
      " \n",
      "4.1.8 Capacity Building & DRR\n",
      " \n",
      "4.1.9 Infrastructure Development \n",
      " \n",
      "4.1.10 Cash for Work (CfW) Modality\n",
      " \n",
      "4.1.11 Community and Stakeholders Participation\n",
      "4.2\n",
      "\n",
      "YUKARI, SAWADA, BA in Osaka \n",
      "University of Foreign Studies \n",
      "(current Osaka University, \n",
      "Faculty of Foreign Studies), MA \n",
      "in Tokyo University of Foreign \n",
      "Studies) \n",
      "Visiting Professor, Tokyo \n",
      "University of Foreign Studies, \n",
      "Japan (Gender and economic \n",
      "development, social welfare in \n",
      "East Asia, migrant labor, \n",
      "unemployment, workfare, care \n",
      "for elderly) \n",
      " \n",
      "Research Staff  \n",
      " \n",
      "JULAIKHA BENTE HOSSAIN, MSc in \n",
      "University of Dhaka, Bangladesh; \n",
      "MSc. and PhD in Asian Institute of \n",
      "Technology, Thailand \n",
      "Project Manager and Visiting \n",
      "Faculty (Gender and \n",
      "Development with emphasis on \n",
      "the policies and programmes for \n",
      "gender equality and women’s \n",
      "empowerment; Gender, \n",
      "Employment and Organization;\n",
      "\n",
      "In the January 2020 semester (includ-\n",
      "ing the March 2020 semester), 105 \n",
      "new students enrolled from 18 differ-\n",
      "ent countries from five different re-\n",
      "gions: Southeast Asia and the Pacific, \n",
      "South Asia, East and Central Asia, and \n",
      "Europe. Of these, 65% enrolled in the \n",
      "School of Engineering and Technol-\n",
      "ogy (SET), 25% in the School of Envi-\n",
      "ronment, Resources and Development \n",
      "(SERD), and 10% in the School of Man-\n",
      "agement (SOM). Approximately 30% of \n",
      "students were women. In this intake, \n",
      "6% of the students were given scholar-\n",
      "ships (full subsidy on tuition fees), 40% \n",
      "students were given AIT Scholarships \n",
      "(partial tuition subsidy), and 54% were \n",
      "self-supporting.\n",
      "Student Intake\n",
      "    Question:  What does student exchange look like on its face? In short, what does student exchange look like?Inequality?Democracy?What about women?What about those who don\\t hold government jobs? What about those who\\ve made less\n",
      "    Answer:\u001b[0m\n",
      "\n",
      "\u001b[1m> Finished chain.\u001b[0m\n",
      "\n",
      "\u001b[1m> Finished chain.\u001b[0m\n",
      "\n",
      "\u001b[1m> Finished chain.\u001b[0m\n"
     ]
    },
    {
     "data": {
      "text/plain": [
       "{'question': 'What is student exchange?',\n",
       " 'chat_history': [HumanMessage(content='What is student exchange?'),\n",
       "  AIMessage(content=' Students at the University of \\u200b\\nThailand can take part in  exchange of students, faculty, and staff \\nin a joint project.\\nUniversity of \\u200b \\u200b \\u200bThailand invites you to explore\\nuniversities around the world and collaborate')],\n",
       " 'answer': ' student exchange has always been an    effort by some schools to discourage\\nthose in power from pursuing career options for which they didn\\\\t even consider pursuing them\\naccording to conservative estimates. However, while some colleges may admit as many as\\n',\n",
       " 'source_documents': [Document(page_content='Factsheet \\nSTUDENT \\nEXCHANGE \\nP R O G R A M M E \\nSports & Fitness Centre \\nHealth Care \\nBank \\nPost Ofﬁce \\nComputing Facilities \\nOther Facilities \\nStudent Associations \\nExchange services', metadata={'source': '../A7/docs/ait_pdf/IIMA-Factsheet-2024-25.pdf', 'file_path': '../A7/docs/ait_pdf/IIMA-Factsheet-2024-25.pdf', 'page': 3, 'total_pages': 4, 'format': 'PDF 1.7', 'title': 'Untitled-1.cdr', 'author': 'Designer IIMA', 'subject': '', 'keywords': '', 'creator': 'CorelDRAW 2021', 'producer': 'Corel PDF Engine Version 23.5.0.506', 'creationDate': \"D:20240118172918+05'30'\", 'modDate': \"D:20240118172918+05'30'\", 'trapped': ''}),\n",
       "  Document(page_content='2.4.2 Data and Information Collection \\n2.5 \\nQuality Assurance \\n2.6 \\nGender Sensitivity/Care\\n2.7 \\nLimitations of the Assessment \\nChapter 3: Socio Economic Proﬁle\\n3.1 \\nProﬁle of the Study Area \\n \\n3.1.1 Camp selection\\n3.2 \\nProﬁle of the Participants \\nChapter 4: Observation and Findings\\n4.1 \\nKey Findings \\n \\n4.1.1 Context Analysis\\n \\n4.1.2 Needs Assessment & Targeting\\n \\n4.1.3 Beneﬁciary Satisfaction\\n \\n4.1.4 Participation\\n \\n4.1.5 Empowerment \\n \\n4.1.6 Gender and Mainstreaming Protection\\n \\n4.1.7 Targeting & Accountability\\n \\n4.1.8 Capacity Building & DRR\\n \\n4.1.9 Infrastructure Development \\n \\n4.1.10 Cash for Work (CfW) Modality\\n \\n4.1.11 Community and Stakeholders Participation\\n4.2', metadata={'source': '../A7/docs/ait_pdf/Final-Report-Designing-Done-by-CAID-Dec-2022a-compressed.pdf', 'file_path': '../A7/docs/ait_pdf/Final-Report-Designing-Done-by-CAID-Dec-2022a-compressed.pdf', 'page': 10, 'total_pages': 80, 'format': 'PDF 1.4', 'title': '1', 'author': '', 'subject': '', 'keywords': '', 'creator': 'Adobe Illustrator CS6 (Windows)', 'producer': '3-Heights™ PDF Optimization Shell 6.3.1.5 (http://www.pdf-tools.com)', 'creationDate': \"D:20221123101500+06'00'\", 'modDate': 'D:20230108153131Z', 'trapped': ''}),\n",
       "  Document(page_content='YUKARI, SAWADA, BA in Osaka \\nUniversity of Foreign Studies \\n(current Osaka University, \\nFaculty of Foreign Studies), MA \\nin Tokyo University of Foreign \\nStudies) \\nVisiting Professor, Tokyo \\nUniversity of Foreign Studies, \\nJapan (Gender and economic \\ndevelopment, social welfare in \\nEast Asia, migrant labor, \\nunemployment, workfare, care \\nfor elderly) \\n \\nResearch Staff  \\n \\nJULAIKHA BENTE HOSSAIN, MSc in \\nUniversity of Dhaka, Bangladesh; \\nMSc. and PhD in Asian Institute of \\nTechnology, Thailand \\nProject Manager and Visiting \\nFaculty (Gender and \\nDevelopment with emphasis on \\nthe policies and programmes for \\ngender equality and women’s \\nempowerment; Gender, \\nEmployment and Organization;', metadata={'source': '../A7/docs/ait_pdf/annualreportonresearch2009.pdf', 'file_path': '../A7/docs/ait_pdf/annualreportonresearch2009.pdf', 'page': 114, 'total_pages': 172, 'format': 'PDF 1.5', 'title': 'PREFACE', 'author': 'izel', 'subject': '', 'keywords': '', 'creator': 'Microsoft® Office Word 2007', 'producer': 'Microsoft® Office Word 2007', 'creationDate': 'D:20100607160607', 'modDate': 'D:20100607160607', 'trapped': ''}),\n",
       "  Document(page_content='In the January 2020 semester (includ-\\ning the March 2020 semester), 105 \\nnew students enrolled from 18 differ-\\nent countries from five different re-\\ngions: Southeast Asia and the Pacific, \\nSouth Asia, East and Central Asia, and \\nEurope. Of these, 65% enrolled in the \\nSchool of Engineering and Technol-\\nogy (SET), 25% in the School of Envi-\\nronment, Resources and Development \\n(SERD), and 10% in the School of Man-\\nagement (SOM). Approximately 30% of \\nstudents were women. In this intake, \\n6% of the students were given scholar-\\nships (full subsidy on tuition fees), 40% \\nstudents were given AIT Scholarships \\n(partial tuition subsidy), and 54% were \\nself-supporting.\\nStudent Intake', metadata={'source': '../A7/docs/ait_pdf/ANNUAL-REPORT-2020.-AIT.pdf', 'file_path': '../A7/docs/ait_pdf/ANNUAL-REPORT-2020.-AIT.pdf', 'page': 36, 'total_pages': 74, 'format': 'PDF 1.6', 'title': '', 'author': '', 'subject': '', 'keywords': '', 'creator': 'Adobe InDesign CS5.5 (7.5)', 'producer': 'Adobe PDF Library 9.9', 'creationDate': \"D:20210720142144+07'00'\", 'modDate': \"D:20211027224657+07'00'\", 'trapped': ''})]}"
      ]
     },
     "execution_count": 70,
     "metadata": {},
     "output_type": "execute_result"
    }
   ],
   "source": [
    "# prompt_question = \"What is the Transformers?\"\n",
    "\n",
    "prompt_question = \"What is student exchange?\"\n",
    "answer = chain({\"question\":prompt_question})\n",
    "answer"
   ]
  },
  {
   "cell_type": "code",
   "execution_count": 71,
   "metadata": {},
   "outputs": [
    {
     "name": "stderr",
     "output_type": "stream",
     "text": [
      "Setting `pad_token_id` to `eos_token_id`:50256 for open-end generation.\n"
     ]
    },
    {
     "name": "stdout",
     "output_type": "stream",
     "text": [
      "\n",
      "\n",
      "\u001b[1m> Entering new ConversationalRetrievalChain chain...\u001b[0m\n",
      "\n",
      "\n",
      "\u001b[1m> Entering new LLMChain chain...\u001b[0m\n",
      "Prompt after formatting:\n",
      "\u001b[32;1m\u001b[1;3mGiven the following conversation and a follow up question, rephrase the follow up question to be a standalone question, in its original language.\n",
      "\n",
      "Chat History:\n",
      "[HumanMessage(content='What is student exchange?'), AIMessage(content=' Students at the University of \\u200b\\nThailand can take part in  exchange of students, faculty, and staff \\nin a joint project.\\nUniversity of \\u200b \\u200b \\u200bThailand invites you to explore\\nuniversities around the world and collaborate'), HumanMessage(content='What is student exchange?'), AIMessage(content=' student exchange has always been an    effort by some schools to discourage\\nthose in power from pursuing career options for which they didn\\\\t even consider pursuing them\\naccording to conservative estimates. However, while some colleges may admit as many as\\n')]\n",
      "Follow Up Input: Where is AIT?\n",
      "Standalone question:\u001b[0m\n"
     ]
    },
    {
     "name": "stderr",
     "output_type": "stream",
     "text": [
      "Setting `pad_token_id` to `eos_token_id`:50256 for open-end generation.\n"
     ]
    },
    {
     "name": "stdout",
     "output_type": "stream",
     "text": [
      "\n",
      "\u001b[1m> Finished chain.\u001b[0m\n",
      "\n",
      "\n",
      "\u001b[1m> Entering new StuffDocumentsChain chain...\u001b[0m\n",
      "\n",
      "\n",
      "\u001b[1m> Entering new LLMChain chain...\u001b[0m\n",
      "Prompt after formatting:\n",
      "\u001b[32;1m\u001b[1;3mI'm your friendly NLP chatbot named ChakyBot, here to assist Chaky and Gun with any questions they have about Natural Language Processing (NLP). \n",
      "    If you're curious about how probability works in the context of NLP, feel free to ask any questions you may have. \n",
      "    Whether it's about probabilistic models, language models, or any other related topic, \n",
      "    I'm here to help break down complex concepts into easy-to-understand explanations.\n",
      "    Just let me know what you're wondering about, and I'll do my best to guide you through it!\n",
      "    simulation of human intelligence.  AI has two \n",
      "primary \"levels\".  The first level, \"narrow AI\", \n",
      "concerns perception, statistical inference, and \n",
      "actuation, drawing on data science, sensors, and \n",
      "robotics.  The second level, sometimes called \n",
      "\"a\n",
      "\"artificial general intelligence (AGI), is concerned \n",
      "with more complex or flexible reasoning and \n",
      "decision making in less constrained domains.\n",
      "The AIT Masters in DS&AI was designed in \n",
      "partnership \n",
      "with \n",
      "the \n",
      "Erasmus+ \n",
      "DS&AI \n",
      "consortium, a group of 15 European and Asian \n",
      "organizations with the mission of bringing \n",
      "European-standard advanced education to Asia. \n",
      "At AIT, we will prepare you to understand and\n",
      "\n",
      "Aim, R., Parameshwaran, K.\n",
      "5. An abstract, argumentation-theoretic ap-\n",
      "proach to default reasoning (cited 162 \n",
      "time(s))\n",
      "1997; Artificial Intelligence; Bondarenko, A., \n",
      "Dung, P.M., Kowalski, R.A., Toni, F.\n",
      "\n",
      "outlining the mission and vision from a “Rebranding of \n",
      "AIT” perspective, as a draft to talk to the Board and in-\n",
      "vite their inputs. In the process a questionnaire could \n",
      "be developed and used as a basis to have face-to-face \n",
      "meetings with individual Board of Trustee members, and \n",
      "other individuals from whom the Interim President would \n",
      "like information. This could be condensed and presented \n",
      "to the Board for discussion, following which the Board \n",
      "may add or remove certain elements and subsequently \n",
      "adopt as vision for AIT.\n",
      "24 DECEMBER 2013\n",
      "The Executive Committee met on 24 December 2013 in \n",
      "the Board Room, AIT Administration Building.  The Chair-\n",
      "\n",
      "TRANSFORMING AIT \n",
      "INITIATIVES\n",
      "22 \n",
      "AIT ANNUAL REPORT 2020\n",
      "    Question:  \"What do you mean by 'asked?'\" In AIMM itselfAIM asks:what does \"asked\" mean?\" [this is a quick and dirty way of asking a question, and I felt bad about answering it in the first\n",
      "    Answer:\u001b[0m\n",
      "\n",
      "\u001b[1m> Finished chain.\u001b[0m\n",
      "\n",
      "\u001b[1m> Finished chain.\u001b[0m\n",
      "\n",
      "\u001b[1m> Finished chain.\u001b[0m\n"
     ]
    },
    {
     "data": {
      "text/plain": [
       "{'question': 'Where is AIT?',\n",
       " 'chat_history': [HumanMessage(content='What is student exchange?'),\n",
       "  AIMessage(content=' Students at the University of \\u200b\\nThailand can take part in  exchange of students, faculty, and staff \\nin a joint project.\\nUniversity of \\u200b \\u200b \\u200bThailand invites you to explore\\nuniversities around the world and collaborate'),\n",
       "  HumanMessage(content='What is student exchange?'),\n",
       "  AIMessage(content=' student exchange has always been an    effort by some schools to discourage\\nthose in power from pursuing career options for which they didn\\\\t even consider pursuing them\\naccording to conservative estimates. However, while some colleges may admit as many as\\n')],\n",
       " 'answer': \"asked, and after some deliberation,36 39 ORDERING THAT THE COMMITTEE SAMPLES (2)A description of The National Science Foundation As of 24 December 2013, the followingNASS, which is the federal government's official scientific\",\n",
       " 'source_documents': [Document(page_content='simulation of human intelligence.  AI has two \\nprimary \"levels\".  The first level, \"narrow AI\", \\nconcerns perception, statistical inference, and \\nactuation, drawing on data science, sensors, and \\nrobotics.  The second level, sometimes called \\n\"a\\n\"artificial general intelligence (AGI), is concerned \\nwith more complex or flexible reasoning and \\ndecision making in less constrained domains.\\nThe AIT Masters in DS&AI was designed in \\npartnership \\nwith \\nthe \\nErasmus+ \\nDS&AI \\nconsortium, a group of 15 European and Asian \\norganizations with the mission of bringing \\nEuropean-standard advanced education to Asia. \\nAt AIT, we will prepare you to understand and', metadata={'source': '../A7/docs/ait_pdf/SET-ICT-DSAI.pdf', 'file_path': '../A7/docs/ait_pdf/SET-ICT-DSAI.pdf', 'page': 0, 'total_pages': 2, 'format': 'PDF 1.5', 'title': '', 'author': '', 'subject': '', 'keywords': '', 'creator': 'PDFsam Basic v4.1.1', 'producer': 'www.ilovepdf.com', 'creationDate': '', 'modDate': 'D:20200309103917Z', 'trapped': ''}),\n",
       "  Document(page_content='Aim, R., Parameshwaran, K.\\n5. An abstract, argumentation-theoretic ap-\\nproach to default reasoning (cited 162 \\ntime(s))\\n1997; Artificial Intelligence; Bondarenko, A., \\nDung, P.M., Kowalski, R.A., Toni, F.', metadata={'source': '../A7/docs/ait_pdf/AIT.AnnualReport.2011.pdf', 'file_path': '../A7/docs/ait_pdf/AIT.AnnualReport.2011.pdf', 'page': 72, 'total_pages': 152, 'format': 'PDF 1.6', 'title': '', 'author': '', 'subject': '', 'keywords': '', 'creator': 'Adobe InDesign CS5.5 (7.5)', 'producer': 'Adobe PDF Library 9.9', 'creationDate': \"D:20130102113910+07'00'\", 'modDate': \"D:20130102135539+07'00'\", 'trapped': ''}),\n",
       "  Document(page_content='outlining the mission and vision from a “Rebranding of \\nAIT” perspective, as a draft to talk to the Board and in-\\nvite their inputs. In the process a questionnaire could \\nbe developed and used as a basis to have face-to-face \\nmeetings with individual Board of Trustee members, and \\nother individuals from whom the Interim President would \\nlike information. This could be condensed and presented \\nto the Board for discussion, following which the Board \\nmay add or remove certain elements and subsequently \\nadopt as vision for AIT.\\n24 DECEMBER 2013\\nThe Executive Committee met on 24 December 2013 in \\nthe Board Room, AIT Administration Building.  The Chair-', metadata={'source': '../A7/docs/ait_pdf/annual_report2013_final.pdf', 'file_path': '../A7/docs/ait_pdf/annual_report2013_final.pdf', 'page': 12, 'total_pages': 102, 'format': 'PDF 1.6', 'title': '', 'author': '', 'subject': '', 'keywords': '', 'creator': 'Adobe InDesign CS5.5 (7.5)', 'producer': 'Adobe PDF Library 9.9', 'creationDate': \"D:20150821165735+07'00'\", 'modDate': \"D:20150826113013+07'00'\", 'trapped': ''}),\n",
       "  Document(page_content='TRANSFORMING AIT \\nINITIATIVES\\n22 \\nAIT ANNUAL REPORT 2020', metadata={'source': '../A7/docs/ait_pdf/ANNUAL-REPORT-2020.-AIT.pdf', 'file_path': '../A7/docs/ait_pdf/ANNUAL-REPORT-2020.-AIT.pdf', 'page': 23, 'total_pages': 74, 'format': 'PDF 1.6', 'title': '', 'author': '', 'subject': '', 'keywords': '', 'creator': 'Adobe InDesign CS5.5 (7.5)', 'producer': 'Adobe PDF Library 9.9', 'creationDate': \"D:20210720142144+07'00'\", 'modDate': \"D:20211027224657+07'00'\", 'trapped': ''})]}"
      ]
     },
     "execution_count": 71,
     "metadata": {},
     "output_type": "execute_result"
    }
   ],
   "source": [
    "prompt_question = \"Where is AIT?\"\n",
    "answer = chain({\"question\":prompt_question})\n",
    "answer"
   ]
  }
 ],
 "metadata": {
  "kernelspec": {
   "display_name": "Python 3 (ipykernel)",
   "language": "python",
   "name": "python3"
  },
  "language_info": {
   "codemirror_mode": {
    "name": "ipython",
    "version": 3
   },
   "file_extension": ".py",
   "mimetype": "text/x-python",
   "name": "python",
   "nbconvert_exporter": "python",
   "pygments_lexer": "ipython3",
   "version": "3.11.8"
  }
 },
 "nbformat": 4,
 "nbformat_minor": 4
}
